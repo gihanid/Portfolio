{
 "cells": [
  {
   "cell_type": "markdown",
   "metadata": {},
   "source": [
    "Random Forest Regression is used here for feature selection. By exporting the features/words and their importances, I could manually create a list of key beer attributes to use later on. The out of sample RMSE was also calculated to see if random forest was actually a good predictor, but that wasn't the main motive. The analysis here starts with a cleaned dataset."
   ]
  },
  {
   "cell_type": "code",
   "execution_count": 1,
   "metadata": {
    "collapsed": true
   },
   "outputs": [],
   "source": [
    "import pandas as pd\n",
    "import numpy as np\n",
    "from sklearn.feature_extraction.text import CountVectorizer\n",
    "from sklearn.ensemble import RandomForestRegressor\n",
    "from sklearn.model_selection import train_test_split, GridSearchCV\n",
    "import math"
   ]
  },
  {
   "cell_type": "code",
   "execution_count": 3,
   "metadata": {},
   "outputs": [],
   "source": [
    "rev = pd.read_csv(\"beer_reviews_clean (2).csv\")"
   ]
  },
  {
   "cell_type": "code",
   "execution_count": 30,
   "metadata": {},
   "outputs": [
    {
     "name": "stdout",
     "output_type": "stream",
     "text": [
      "This dataset contains reviews and scores on 250 unique craft beers that come from 85 unique breweries.\n"
     ]
    }
   ],
   "source": [
    "print ('This dataset contains reviews and scores on', 1 + len(rev['name'].value_counts()), 'unique craft beers that come from', 1 + len(rev['brewery'].value_counts()), 'unique breweries.')"
   ]
  },
  {
   "cell_type": "code",
   "execution_count": 24,
   "metadata": {},
   "outputs": [
    {
     "data": {
      "text/html": [
       "<div>\n",
       "<style>\n",
       "    .dataframe thead tr:only-child th {\n",
       "        text-align: right;\n",
       "    }\n",
       "\n",
       "    .dataframe thead th {\n",
       "        text-align: left;\n",
       "    }\n",
       "\n",
       "    .dataframe tbody tr th {\n",
       "        vertical-align: top;\n",
       "    }\n",
       "</style>\n",
       "<table border=\"1\" class=\"dataframe\">\n",
       "  <thead>\n",
       "    <tr style=\"text-align: right;\">\n",
       "      <th></th>\n",
       "      <th>score</th>\n",
       "      <th>Review</th>\n",
       "      <th>look</th>\n",
       "      <th>smell</th>\n",
       "      <th>taste</th>\n",
       "      <th>feel</th>\n",
       "      <th>name</th>\n",
       "      <th>brewery</th>\n",
       "    </tr>\n",
       "  </thead>\n",
       "  <tbody>\n",
       "    <tr>\n",
       "      <th>0</th>\n",
       "      <td>4.90</td>\n",
       "      <td>Wow. More than lucky to be able to split a bot...</td>\n",
       "      <td>5.00</td>\n",
       "      <td>5.0</td>\n",
       "      <td>4.75</td>\n",
       "      <td>5.00</td>\n",
       "      <td>Kentucky Brunch Brand Stout</td>\n",
       "      <td>Toppling Goliath Brewing Company</td>\n",
       "    </tr>\n",
       "    <tr>\n",
       "      <th>1</th>\n",
       "      <td>4.95</td>\n",
       "      <td>L: Dinosaur blood with a chocolate milk head. ...</td>\n",
       "      <td>5.00</td>\n",
       "      <td>5.0</td>\n",
       "      <td>5.00</td>\n",
       "      <td>5.00</td>\n",
       "      <td>Kentucky Brunch Brand Stout</td>\n",
       "      <td>Toppling Goliath Brewing Company</td>\n",
       "    </tr>\n",
       "    <tr>\n",
       "      <th>2</th>\n",
       "      <td>5.00</td>\n",
       "      <td>Latest batch. Most complex beer I've had, hand...</td>\n",
       "      <td>5.00</td>\n",
       "      <td>5.0</td>\n",
       "      <td>5.00</td>\n",
       "      <td>5.00</td>\n",
       "      <td>Kentucky Brunch Brand Stout</td>\n",
       "      <td>Toppling Goliath Brewing Company</td>\n",
       "    </tr>\n",
       "    <tr>\n",
       "      <th>3</th>\n",
       "      <td>4.67</td>\n",
       "      <td>Did someone say there was maple in the beer??4...</td>\n",
       "      <td>4.50</td>\n",
       "      <td>5.0</td>\n",
       "      <td>4.50</td>\n",
       "      <td>4.50</td>\n",
       "      <td>Kentucky Brunch Brand Stout</td>\n",
       "      <td>Toppling Goliath Brewing Company</td>\n",
       "    </tr>\n",
       "    <tr>\n",
       "      <th>4</th>\n",
       "      <td>4.71</td>\n",
       "      <td>This beer turned out to be everything I wanted...</td>\n",
       "      <td>4.75</td>\n",
       "      <td>5.0</td>\n",
       "      <td>4.50</td>\n",
       "      <td>4.75</td>\n",
       "      <td>Kentucky Brunch Brand Stout</td>\n",
       "      <td>Toppling Goliath Brewing Company</td>\n",
       "    </tr>\n",
       "  </tbody>\n",
       "</table>\n",
       "</div>"
      ],
      "text/plain": [
       "   score                                             Review  look  smell  \\\n",
       "0   4.90  Wow. More than lucky to be able to split a bot...  5.00    5.0   \n",
       "1   4.95  L: Dinosaur blood with a chocolate milk head. ...  5.00    5.0   \n",
       "2   5.00  Latest batch. Most complex beer I've had, hand...  5.00    5.0   \n",
       "3   4.67  Did someone say there was maple in the beer??4...  4.50    5.0   \n",
       "4   4.71  This beer turned out to be everything I wanted...  4.75    5.0   \n",
       "\n",
       "   taste  feel                         name                           brewery  \n",
       "0   4.75  5.00  Kentucky Brunch Brand Stout  Toppling Goliath Brewing Company  \n",
       "1   5.00  5.00  Kentucky Brunch Brand Stout  Toppling Goliath Brewing Company  \n",
       "2   5.00  5.00  Kentucky Brunch Brand Stout  Toppling Goliath Brewing Company  \n",
       "3   4.50  4.50  Kentucky Brunch Brand Stout  Toppling Goliath Brewing Company  \n",
       "4   4.50  4.75  Kentucky Brunch Brand Stout  Toppling Goliath Brewing Company  "
      ]
     },
     "execution_count": 24,
     "metadata": {},
     "output_type": "execute_result"
    }
   ],
   "source": [
    "rev[:5]"
   ]
  },
  {
   "cell_type": "code",
   "execution_count": 4,
   "metadata": {
    "collapsed": true
   },
   "outputs": [],
   "source": [
    "#dropping stopwords and creating a sparse matrix\n",
    "cv = CountVectorizer(stop_words='english')\n",
    "cv.fit(rev[\"Review\"].values)\n",
    "spmx = cv.transform(rev[\"Review\"].values)"
   ]
  },
  {
   "cell_type": "code",
   "execution_count": 7,
   "metadata": {
    "collapsed": true
   },
   "outputs": [],
   "source": [
    "x1, x2, y1, y2 = train_test_split(spmx, rev[\"score\"], test_size = .2, random_state = 42)"
   ]
  },
  {
   "cell_type": "code",
   "execution_count": 21,
   "metadata": {},
   "outputs": [
    {
     "data": {
      "text/plain": [
       "{'max_depth': 6, 'max_features': 'auto', 'n_estimators': 300}"
      ]
     },
     "execution_count": 21,
     "metadata": {},
     "output_type": "execute_result"
    }
   ],
   "source": [
    "#tuning hyperparaters with gridsearchCV to find optimal parameters for the random forest regression\n",
    "parameters = {\"max_depth\":range(2, 7), \"max_features\": [\"auto\", \"sqrt\", \"log2\"], \\\n",
    "             \"n_estimators\":[10, 100, 150, 200, 300, 350, 500, 750, 1000]}\n",
    "\n",
    "rf = RandomForestRegressor(n_jobs = -1)\n",
    "clf = GridSearchCV(rf, parameters)\n",
    "clf.fit(x1, y1)\n",
    "clf.best_params_"
   ]
  },
  {
   "cell_type": "code",
   "execution_count": 22,
   "metadata": {},
   "outputs": [
    {
     "data": {
      "text/plain": [
       "0.33283008064106157"
      ]
     },
     "execution_count": 22,
     "metadata": {},
     "output_type": "execute_result"
    }
   ],
   "source": [
    "from sklearn.metrics import mean_squared_error\n",
    "\n",
    "rf = RandomForestRegressor(n_jobs = -1, max_depth=6, max_features=\"auto\", n_estimators = 300)\n",
    "rf.fit(x1, y1)\n",
    "\n",
    "y2_pred = rf.predict(x2)\n",
    "\n",
    "#finding the RMSE of model shows that it's not the most accurate at predicting overall score on the 5 point\n",
    "#That's okay though because prediction isn't the goal here. I'm more concerned about the features/words that are important.\n",
    "math.sqrt(mean_squared_error(y2, y2_pred))"
   ]
  },
  {
   "cell_type": "code",
   "execution_count": 48,
   "metadata": {},
   "outputs": [
    {
     "data": {
      "text/html": [
       "<div>\n",
       "<style>\n",
       "    .dataframe thead tr:only-child th {\n",
       "        text-align: right;\n",
       "    }\n",
       "\n",
       "    .dataframe thead th {\n",
       "        text-align: left;\n",
       "    }\n",
       "\n",
       "    .dataframe tbody tr th {\n",
       "        vertical-align: top;\n",
       "    }\n",
       "</style>\n",
       "<table border=\"1\" class=\"dataframe\">\n",
       "  <thead>\n",
       "    <tr style=\"text-align: right;\">\n",
       "      <th></th>\n",
       "      <th>Importance</th>\n",
       "      <th>Word</th>\n",
       "    </tr>\n",
       "  </thead>\n",
       "  <tbody>\n",
       "    <tr>\n",
       "      <th>1974</th>\n",
       "      <td>0.129566</td>\n",
       "      <td>best</td>\n",
       "    </tr>\n",
       "    <tr>\n",
       "      <th>7275</th>\n",
       "      <td>0.120595</td>\n",
       "      <td>infected17</td>\n",
       "    </tr>\n",
       "    <tr>\n",
       "      <th>3005</th>\n",
       "      <td>0.116865</td>\n",
       "      <td>charactersdiemilio</td>\n",
       "    </tr>\n",
       "    <tr>\n",
       "      <th>5341</th>\n",
       "      <td>0.035925</td>\n",
       "      <td>drain</td>\n",
       "    </tr>\n",
       "    <tr>\n",
       "      <th>9212</th>\n",
       "      <td>0.035417</td>\n",
       "      <td>perfect</td>\n",
       "    </tr>\n",
       "    <tr>\n",
       "      <th>1428</th>\n",
       "      <td>0.027395</td>\n",
       "      <td>amazing</td>\n",
       "    </tr>\n",
       "    <tr>\n",
       "      <th>7274</th>\n",
       "      <td>0.025266</td>\n",
       "      <td>infected</td>\n",
       "    </tr>\n",
       "    <tr>\n",
       "      <th>9297</th>\n",
       "      <td>0.021825</td>\n",
       "      <td>pillars</td>\n",
       "    </tr>\n",
       "    <tr>\n",
       "      <th>12848</th>\n",
       "      <td>0.021692</td>\n",
       "      <td>zombier</td>\n",
       "    </tr>\n",
       "    <tr>\n",
       "      <th>4893</th>\n",
       "      <td>0.020254</td>\n",
       "      <td>decent</td>\n",
       "    </tr>\n",
       "    <tr>\n",
       "      <th>12600</th>\n",
       "      <td>0.018742</td>\n",
       "      <td>wet</td>\n",
       "    </tr>\n",
       "    <tr>\n",
       "      <th>11640</th>\n",
       "      <td>0.016755</td>\n",
       "      <td>tartnesss</td>\n",
       "    </tr>\n",
       "    <tr>\n",
       "      <th>12741</th>\n",
       "      <td>0.016065</td>\n",
       "      <td>worst</td>\n",
       "    </tr>\n",
       "    <tr>\n",
       "      <th>11350</th>\n",
       "      <td>0.015427</td>\n",
       "      <td>style</td>\n",
       "    </tr>\n",
       "    <tr>\n",
       "      <th>3724</th>\n",
       "      <td>0.013126</td>\n",
       "      <td>characterssabtos</td>\n",
       "    </tr>\n",
       "  </tbody>\n",
       "</table>\n",
       "</div>"
      ],
      "text/plain": [
       "       Importance                Word\n",
       "1974     0.129566                best\n",
       "7275     0.120595          infected17\n",
       "3005     0.116865  charactersdiemilio\n",
       "5341     0.035925               drain\n",
       "9212     0.035417             perfect\n",
       "1428     0.027395             amazing\n",
       "7274     0.025266            infected\n",
       "9297     0.021825             pillars\n",
       "12848    0.021692             zombier\n",
       "4893     0.020254              decent\n",
       "12600    0.018742                 wet\n",
       "11640    0.016755           tartnesss\n",
       "12741    0.016065               worst\n",
       "11350    0.015427               style\n",
       "3724     0.013126    characterssabtos"
      ]
     },
     "execution_count": 48,
     "metadata": {},
     "output_type": "execute_result"
    }
   ],
   "source": [
    "#By creating and sorting the features and their names by importance in the random forest regression, it is possible to conclude what words in the reviews are most important\n",
    "impdf = pd.DataFrame(list(zip(list(rf.feature_importances_), cv.get_feature_names())))\n",
    "sorted_df = impdf[impdf[0] > 0].sort_values(by=0, ascending = False) #.to_csv(\"View_of_Importances.csv\")\n",
    "sorted_df.columns = ['Importance', 'Word']\n",
    "sorted_df[:15]"
   ]
  }
 ],
 "metadata": {
  "kernelspec": {
   "display_name": "Python 3",
   "language": "python",
   "name": "python3"
  },
  "language_info": {
   "codemirror_mode": {
    "name": "ipython",
    "version": 3
   },
   "file_extension": ".py",
   "mimetype": "text/x-python",
   "name": "python",
   "nbconvert_exporter": "python",
   "pygments_lexer": "ipython3",
   "version": "3.5.3"
  }
 },
 "nbformat": 4,
 "nbformat_minor": 2
}
